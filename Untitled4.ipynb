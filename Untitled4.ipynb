{
  "nbformat": 4,
  "nbformat_minor": 0,
  "metadata": {
    "colab": {
      "provenance": [],
      "authorship_tag": "ABX9TyM3Q2PbUl0E+KLpQmPFXwgG",
      "include_colab_link": true
    },
    "kernelspec": {
      "name": "python3",
      "display_name": "Python 3"
    },
    "language_info": {
      "name": "python"
    },
    "widgets": {
      "application/vnd.jupyter.widget-state+json": {
        "5ab421cd79304f84889fe42aa1f1e83a": {
          "model_module": "@jupyter-widgets/controls",
          "model_name": "VBoxModel",
          "model_module_version": "1.5.0",
          "state": {
            "_dom_classes": [
              "widget-interact"
            ],
            "_model_module": "@jupyter-widgets/controls",
            "_model_module_version": "1.5.0",
            "_model_name": "VBoxModel",
            "_view_count": null,
            "_view_module": "@jupyter-widgets/controls",
            "_view_module_version": "1.5.0",
            "_view_name": "VBoxView",
            "box_style": "",
            "children": [
              "IPY_MODEL_309eb911dbc846f19d77fe6beef111b7",
              "IPY_MODEL_8aebc9904e064681b3970610abd9e020"
            ],
            "layout": "IPY_MODEL_c28a74d495f64364a76f81282086a92d"
          }
        },
        "309eb911dbc846f19d77fe6beef111b7": {
          "model_module": "@jupyter-widgets/controls",
          "model_name": "DropdownModel",
          "model_module_version": "1.5.0",
          "state": {
            "_dom_classes": [],
            "_model_module": "@jupyter-widgets/controls",
            "_model_module_version": "1.5.0",
            "_model_name": "DropdownModel",
            "_options_labels": [
              "Afghanistan",
              "Africa",
              "Albania",
              "Algeria",
              "American Samoa",
              "Andorra",
              "Angola",
              "Anguilla",
              "Antigua and Barbuda",
              "Argentina",
              "Armenia",
              "Aruba",
              "Asia",
              "Australia",
              "Austria",
              "Azerbaijan",
              "Bahamas",
              "Bahrain",
              "Bangladesh",
              "Barbados",
              "Belarus",
              "Belgium",
              "Belize",
              "Benin",
              "Bermuda",
              "Bhutan",
              "Bolivia",
              "Bonaire Sint Eustatius and Saba",
              "Bosnia and Herzegovina",
              "Botswana",
              "Brazil",
              "British Virgin Islands",
              "Brunei",
              "Bulgaria",
              "Burkina Faso",
              "Burundi",
              "Cambodia",
              "Cameroon",
              "Canada",
              "Cape Verde",
              "Cayman Islands",
              "Central African Republic",
              "Chad",
              "Chile",
              "China",
              "Colombia",
              "Comoros",
              "Congo",
              "Cook Islands",
              "Costa Rica",
              "Cote d'Ivoire",
              "Croatia",
              "Cuba",
              "Curacao",
              "Cyprus",
              "Czechia",
              "Democratic Republic of Congo",
              "Denmark",
              "Djibouti",
              "Dominica",
              "Dominican Republic",
              "East Timor",
              "Ecuador",
              "Egypt",
              "El Salvador",
              "England",
              "Equatorial Guinea",
              "Eritrea",
              "Estonia",
              "Eswatini",
              "Ethiopia",
              "Europe",
              "European Union (27)",
              "Faroe Islands",
              "Falkland Islands",
              "Fiji",
              "Finland",
              "France",
              "French Guiana",
              "French Polynesia",
              "Gabon",
              "Gambia",
              "Georgia",
              "Germany",
              "Ghana",
              "Gibraltar",
              "Greece",
              "Greenland",
              "Grenada",
              "Guadeloupe",
              "Guam",
              "Guatemala",
              "Guernsey",
              "Guinea",
              "Guinea-Bissau",
              "Guyana",
              "Haiti",
              "High-income countries",
              "Honduras",
              "Hong Kong",
              "Hungary",
              "Iceland",
              "India",
              "Indonesia",
              "Iran",
              "Iraq",
              "Ireland",
              "Isle of Man",
              "Israel",
              "Italy",
              "Jamaica",
              "Japan",
              "Jersey",
              "Jordan",
              "Kazakhstan",
              "Kenya",
              "Kiribati",
              "Kosovo",
              "Kuwait",
              "Kyrgyzstan",
              "Laos",
              "Latvia",
              "Lebanon",
              "Lesotho",
              "Liberia",
              "Libya",
              "Liechtenstein",
              "Lithuania",
              "Low-income countries",
              "Lower-middle-income countries",
              "Luxembourg",
              "Macao",
              "Madagascar",
              "Malawi",
              "Malaysia",
              "Maldives",
              "Mali",
              "Malta",
              "Marshall Islands",
              "Martinique",
              "Mauritania",
              "Mauritius",
              "Mayotte",
              "Mexico",
              "Micronesia (country)",
              "Moldova",
              "Monaco",
              "Mongolia",
              "Montenegro",
              "Montserrat",
              "Morocco",
              "Mozambique",
              "Myanmar",
              "Namibia",
              "Nauru",
              "Nepal",
              "Netherlands",
              "New Caledonia",
              "New Zealand",
              "Nicaragua",
              "Niger",
              "Nigeria",
              "Niue",
              "North America",
              "North Korea",
              "North Macedonia",
              "Northern Cyprus",
              "Northern Ireland",
              "Northern Mariana Islands",
              "Norway",
              "Oceania",
              "Oman",
              "Pakistan",
              "Palau",
              "Palestine",
              "Panama",
              "Papua New Guinea",
              "Paraguay",
              "Peru",
              "Philippines",
              "Pitcairn",
              "Poland",
              "Portugal",
              "Puerto Rico",
              "Qatar",
              "Reunion",
              "Romania",
              "Russia",
              "Rwanda",
              "Saint Barthelemy",
              "Saint Helena",
              "Saint Kitts and Nevis",
              "Saint Lucia",
              "Saint Martin (French part)",
              "Saint Pierre and Miquelon",
              "Saint Vincent and the Grenadines",
              "Samoa",
              "San Marino",
              "Sao Tome and Principe",
              "Saudi Arabia",
              "Scotland",
              "Senegal",
              "Serbia",
              "Seychelles",
              "Sierra Leone",
              "Singapore",
              "Sint Maarten (Dutch part)",
              "Slovakia",
              "Slovenia",
              "Solomon Islands",
              "Somalia",
              "South Africa",
              "South America",
              "South Korea",
              "South Sudan",
              "Spain",
              "Sri Lanka",
              "Sudan",
              "Suriname",
              "Sweden",
              "Switzerland",
              "Syria",
              "Taiwan",
              "Tajikistan",
              "Tanzania",
              "Thailand",
              "Togo",
              "Tokelau",
              "Tonga",
              "Trinidad and Tobago",
              "Tunisia",
              "Turkey",
              "Turkmenistan",
              "Turks and Caicos Islands",
              "Tuvalu",
              "Uganda",
              "Ukraine",
              "United Arab Emirates",
              "United Kingdom",
              "United States",
              "United States Virgin Islands",
              "Upper-middle-income countries",
              "Uruguay",
              "Uzbekistan",
              "Vanuatu",
              "Vatican",
              "Venezuela",
              "Vietnam",
              "Wales",
              "Wallis and Futuna",
              "Western Sahara",
              "World",
              "Yemen",
              "Zambia",
              "Zimbabwe"
            ],
            "_view_count": null,
            "_view_module": "@jupyter-widgets/controls",
            "_view_module_version": "1.5.0",
            "_view_name": "DropdownView",
            "description": "country",
            "description_tooltip": null,
            "disabled": false,
            "index": 12,
            "layout": "IPY_MODEL_1dbc3ce07cbf40c5ab705777a6b8b022",
            "style": "IPY_MODEL_858cc84b94104aed9d9e0b87f32e89c6"
          }
        },
        "8aebc9904e064681b3970610abd9e020": {
          "model_module": "@jupyter-widgets/output",
          "model_name": "OutputModel",
          "model_module_version": "1.0.0",
          "state": {
            "_dom_classes": [],
            "_model_module": "@jupyter-widgets/output",
            "_model_module_version": "1.0.0",
            "_model_name": "OutputModel",
            "_view_count": null,
            "_view_module": "@jupyter-widgets/output",
            "_view_module_version": "1.0.0",
            "_view_name": "OutputView",
            "layout": "IPY_MODEL_1807171cf0c848f7b8d80d2a9e16289b",
            "msg_id": "",
            "outputs": [
              {
                "output_type": "display_data",
                "data": {
                  "text/plain": "<Figure size 1000x600 with 1 Axes>",
                  "image/png": "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\n"
                },
                "metadata": {}
              }
            ]
          }
        },
        "c28a74d495f64364a76f81282086a92d": {
          "model_module": "@jupyter-widgets/base",
          "model_name": "LayoutModel",
          "model_module_version": "1.2.0",
          "state": {
            "_model_module": "@jupyter-widgets/base",
            "_model_module_version": "1.2.0",
            "_model_name": "LayoutModel",
            "_view_count": null,
            "_view_module": "@jupyter-widgets/base",
            "_view_module_version": "1.2.0",
            "_view_name": "LayoutView",
            "align_content": null,
            "align_items": null,
            "align_self": null,
            "border": null,
            "bottom": null,
            "display": null,
            "flex": null,
            "flex_flow": null,
            "grid_area": null,
            "grid_auto_columns": null,
            "grid_auto_flow": null,
            "grid_auto_rows": null,
            "grid_column": null,
            "grid_gap": null,
            "grid_row": null,
            "grid_template_areas": null,
            "grid_template_columns": null,
            "grid_template_rows": null,
            "height": null,
            "justify_content": null,
            "justify_items": null,
            "left": null,
            "margin": null,
            "max_height": null,
            "max_width": null,
            "min_height": null,
            "min_width": null,
            "object_fit": null,
            "object_position": null,
            "order": null,
            "overflow": null,
            "overflow_x": null,
            "overflow_y": null,
            "padding": null,
            "right": null,
            "top": null,
            "visibility": null,
            "width": null
          }
        },
        "1dbc3ce07cbf40c5ab705777a6b8b022": {
          "model_module": "@jupyter-widgets/base",
          "model_name": "LayoutModel",
          "model_module_version": "1.2.0",
          "state": {
            "_model_module": "@jupyter-widgets/base",
            "_model_module_version": "1.2.0",
            "_model_name": "LayoutModel",
            "_view_count": null,
            "_view_module": "@jupyter-widgets/base",
            "_view_module_version": "1.2.0",
            "_view_name": "LayoutView",
            "align_content": null,
            "align_items": null,
            "align_self": null,
            "border": null,
            "bottom": null,
            "display": null,
            "flex": null,
            "flex_flow": null,
            "grid_area": null,
            "grid_auto_columns": null,
            "grid_auto_flow": null,
            "grid_auto_rows": null,
            "grid_column": null,
            "grid_gap": null,
            "grid_row": null,
            "grid_template_areas": null,
            "grid_template_columns": null,
            "grid_template_rows": null,
            "height": null,
            "justify_content": null,
            "justify_items": null,
            "left": null,
            "margin": null,
            "max_height": null,
            "max_width": null,
            "min_height": null,
            "min_width": null,
            "object_fit": null,
            "object_position": null,
            "order": null,
            "overflow": null,
            "overflow_x": null,
            "overflow_y": null,
            "padding": null,
            "right": null,
            "top": null,
            "visibility": null,
            "width": null
          }
        },
        "858cc84b94104aed9d9e0b87f32e89c6": {
          "model_module": "@jupyter-widgets/controls",
          "model_name": "DescriptionStyleModel",
          "model_module_version": "1.5.0",
          "state": {
            "_model_module": "@jupyter-widgets/controls",
            "_model_module_version": "1.5.0",
            "_model_name": "DescriptionStyleModel",
            "_view_count": null,
            "_view_module": "@jupyter-widgets/base",
            "_view_module_version": "1.2.0",
            "_view_name": "StyleView",
            "description_width": ""
          }
        },
        "1807171cf0c848f7b8d80d2a9e16289b": {
          "model_module": "@jupyter-widgets/base",
          "model_name": "LayoutModel",
          "model_module_version": "1.2.0",
          "state": {
            "_model_module": "@jupyter-widgets/base",
            "_model_module_version": "1.2.0",
            "_model_name": "LayoutModel",
            "_view_count": null,
            "_view_module": "@jupyter-widgets/base",
            "_view_module_version": "1.2.0",
            "_view_name": "LayoutView",
            "align_content": null,
            "align_items": null,
            "align_self": null,
            "border": null,
            "bottom": null,
            "display": null,
            "flex": null,
            "flex_flow": null,
            "grid_area": null,
            "grid_auto_columns": null,
            "grid_auto_flow": null,
            "grid_auto_rows": null,
            "grid_column": null,
            "grid_gap": null,
            "grid_row": null,
            "grid_template_areas": null,
            "grid_template_columns": null,
            "grid_template_rows": null,
            "height": null,
            "justify_content": null,
            "justify_items": null,
            "left": null,
            "margin": null,
            "max_height": null,
            "max_width": null,
            "min_height": null,
            "min_width": null,
            "object_fit": null,
            "object_position": null,
            "order": null,
            "overflow": null,
            "overflow_x": null,
            "overflow_y": null,
            "padding": null,
            "right": null,
            "top": null,
            "visibility": null,
            "width": null
          }
        }
      }
    }
  },
  "cells": [
    {
      "cell_type": "markdown",
      "metadata": {
        "id": "view-in-github",
        "colab_type": "text"
      },
      "source": [
        "<a href=\"https://colab.research.google.com/github/diwantanishka12/Code_breakers_COVID-19_Global_Trend_Dashboard/blob/main/Untitled4.ipynb\" target=\"_parent\"><img src=\"https://colab.research.google.com/assets/colab-badge.svg\" alt=\"Open In Colab\"/></a>"
      ]
    },
    {
      "cell_type": "code",
      "execution_count": 1,
      "metadata": {
        "colab": {
          "base_uri": "https://localhost:8080/"
        },
        "id": "yKUCWwcwDAzm",
        "outputId": "0e3cafd4-4a20-40dc-f6f3-ae9b299ca84f"
      },
      "outputs": [
        {
          "output_type": "stream",
          "name": "stdout",
          "text": [
            "Data cleaned and saved at: /content/processed_covid_data.csv\n"
          ]
        }
      ],
      "source": [
        "import pandas as pd\n",
        "\n",
        "# Load the dataset\n",
        "file_path = '/content/owid-covid-data.csv'  # Path to the dataset\n",
        "df = pd.read_csv(file_path)\n",
        "\n",
        "# Clean the dataset\n",
        "df['date'] = pd.to_datetime(df['date'])  # Convert 'date' to datetime\n",
        "cols_to_keep = ['iso_code', 'location', 'date', 'total_cases', 'total_deaths',\n",
        "                'new_cases', 'new_deaths', 'total_vaccinations', 'population']\n",
        "df = df[cols_to_keep]  # Keep relevant columns\n",
        "df = df.fillna(0)  # Fill missing values with 0\n",
        "\n",
        "# Save cleaned data\n",
        "processed_path = '/content/processed_covid_data.csv'\n",
        "df.to_csv(processed_path, index=False)\n",
        "\n",
        "print(\"Data cleaned and saved at:\", processed_path)"
      ]
    },
    {
      "cell_type": "code",
      "source": [
        "import matplotlib.pyplot as plt\n",
        "\n",
        "# Load cleaned data\n",
        "data = pd.read_csv('/content/processed_covid_data.csv')\n",
        "\n",
        "# Function to plot trends for a specific country\n",
        "def plot_country_trends(country):\n",
        "    \"\"\"Plot COVID-19 trends for a specific country.\"\"\"\n",
        "    country_data = data[data['location'] == country]\n",
        "    plt.figure(figsize=(10, 6))\n",
        "    plt.plot(country_data['date'], country_data['total_cases'], label=\"Total Cases\", color=\"blue\")\n",
        "    plt.plot(country_data['date'], country_data['total_deaths'], label=\"Total Deaths\", color=\"red\")\n",
        "    plt.title(f\"COVID-19 Trends in {country}\")\n",
        "    plt.xlabel(\"Date\")\n",
        "    plt.ylabel(\"Count\")\n",
        "    plt.legend()\n",
        "    plt.grid()\n",
        "    plt.show()\n",
        "\n",
        "# Example: Plot trends for India\n",
        "plot_country_trends(\"India\")"
      ],
      "metadata": {
        "colab": {
          "base_uri": "https://localhost:8080/",
          "height": 564
        },
        "id": "1ULaXZkDEMQu",
        "outputId": "40613ff6-f0ef-4911-8dad-21a046af91b7"
      },
      "execution_count": 2,
      "outputs": [
        {
          "output_type": "display_data",
          "data": {
            "text/plain": [
              "<Figure size 1000x600 with 1 Axes>"
            ],
            "image/png": "[encoded data removed]"
          },
          "metadata": {}
        }
      ]
    },
    {
      "cell_type": "code",
      "source": [
        "def save_country_plot(country):\n",
        "    \"\"\"Save plot for a specific country.\"\"\"\n",
        "    country_data = data[data['location'] == country]\n",
        "    plt.figure(figsize=(10, 6))\n",
        "    plt.plot(country_data['date'], country_data['total_cases'], label=\"Total Cases\", color=\"blue\")\n",
        "    plt.plot(country_data['date'], country_data['total_deaths'], label=\"Total Deaths\", color=\"red\")\n",
        "    plt.title(f\"COVID-19 Trends in {country}\")\n",
        "    plt.xlabel(\"Date\")\n",
        "    plt.ylabel(\"Count\")\n",
        "    plt.legend()\n",
        "    plt.grid()\n",
        "    file_path = f\"/content/{country}_trend.png\"\n",
        "    plt.savefig(file_path)\n",
        "    print(f\"Saved plot at: {file_path}\")\n",
        "\n",
        "# Save plot for India\n",
        "save_country_plot(\"India\")"
      ],
      "metadata": {
        "colab": {
          "base_uri": "https://localhost:8080/",
          "height": 581
        },
        "id": "uA8aVFb9EYRi",
        "outputId": "3ee0d7b9-a6a0-48d1-cd2c-55dead7ac20f"
      },
      "execution_count": 3,
      "outputs": [
        {
          "output_type": "stream",
          "name": "stdout",
          "text": [
            "Saved plot at: /content/India_trend.png\n"
          ]
        },
        {
          "output_type": "display_data",
          "data": {
            "text/plain": [
              "<Figure size 1000x600 with 1 Axes>"
            ],
            "image/png": "[encoded data removed]"
          },
          "metadata": {}
        }
      ]
    },
    {
      "cell_type": "code",
      "source": [
        "from ipywidgets import interact\n",
        "\n",
        "def plot_interactive_trends(country):\n",
        "    \"\"\"Interactive plot for trends.\"\"\"\n",
        "    country_data = data[data['location'] == country]\n",
        "    plt.figure(figsize=(10, 6))\n",
        "    plt.plot(country_data['date'], country_data['total_cases'], label=\"Total Cases\", color=\"blue\")\n",
        "    plt.plot(country_data['date'], country_data['total_deaths'], label=\"Total Deaths\", color=\"red\")\n",
        "    plt.title(f\"COVID-19 Trends in {country}\")\n",
        "    plt.xlabel(\"Date\")\n",
        "    plt.ylabel(\"Count\")\n",
        "    plt.legend()\n",
        "    plt.grid()\n",
        "    plt.show()\n",
        "\n",
        "interact(plot_interactive_trends, country=data['location'].unique())"
      ],
      "metadata": {
        "colab": {
          "base_uri": "https://localhost:8080/",
          "height": 682,
          "referenced_widgets": [
            "5ab421cd79304f84889fe42aa1f1e83a",
            "309eb911dbc846f19d77fe6beef111b7",
            "8aebc9904e064681b3970610abd9e020",
            "c28a74d495f64364a76f81282086a92d",
            "1dbc3ce07cbf40c5ab705777a6b8b022",
            "858cc84b94104aed9d9e0b87f32e89c6",
            "1807171cf0c848f7b8d80d2a9e16289b"
          ]
        },
        "id": "gbpPk8gIExG1",
        "outputId": "eda1e2fb-f07a-4168-cc6d-9d659d2b85d6"
      },
      "execution_count": 4,
      "outputs": [
        {
          "output_type": "display_data",
          "data": {
            "text/plain": [
              "interactive(children=(Dropdown(description='country', options=('Afghanistan', 'Africa', 'Albania', 'Algeria', …"
            ],
            "application/vnd.jupyter.widget-view+json": {
              "version_major": 2,
              "version_minor": 0,
              "model_id": "5ab421cd79304f84889fe42aa1f1e83a"
            }
          },
          "metadata": {}
        },
        {
          "output_type": "execute_result",
          "data": {
            "text/plain": [
              "<function __main__.plot_interactive_trends(country)>"
            ],
            "text/html": [
              "<div style=\"max-width:800px; border: 1px solid var(--colab-border-color);\"><style>\n",
              "      pre.function-repr-contents {\n",
              "        overflow-x: auto;\n",
              "        padding: 8px 12px;\n",
              "        max-height: 500px;\n",
              "      }\n",
              "\n",
              "      pre.function-repr-contents.function-repr-contents-collapsed {\n",
              "        cursor: pointer;\n",
              "        max-height: 100px;\n",
              "      }\n",
              "    </style>\n",
              "    <pre style=\"white-space: initial; background:\n",
              "         var(--colab-secondary-surface-color); padding: 8px 12px;\n",
              "         border-bottom: 1px solid var(--colab-border-color);\"><b>plot_interactive_trends</b><br/>def plot_interactive_trends(country)</pre><pre class=\"function-repr-contents function-repr-contents-collapsed\" style=\"\"><a class=\"filepath\" style=\"display:none\" href=\"#\">/content/&lt;ipython-input-4-89fbaedef87b&gt;</a>Interactive plot for trends.</pre></div>"
            ]
          },
          "metadata": {},
          "execution_count": 4
        }
      ]
    },
    {
      "cell_type": "code",
      "source": [
        "country = \"India\"  # Replace with your country\n",
        "print(data[data['location'] == country].head())"
      ],
      "metadata": {
        "colab": {
          "base_uri": "https://localhost:8080/"
        },
        "id": "kOmqx8pQE5Sf",
        "outputId": "ceaed117-4380-4576-9924-a21f01093806"
      },
      "execution_count": 5,
      "outputs": [
        {
          "output_type": "stream",
          "name": "stdout",
          "text": [
            "       iso_code location        date  total_cases  total_deaths  new_cases  \\\n",
            "173549      IND    India  2020-01-05          0.0           0.0        0.0   \n",
            "173550      IND    India  2020-01-06          0.0           0.0        0.0   \n",
            "173551      IND    India  2020-01-07          0.0           0.0        0.0   \n",
            "173552      IND    India  2020-01-08          0.0           0.0        0.0   \n",
            "173553      IND    India  2020-01-09          0.0           0.0        0.0   \n",
            "\n",
            "        new_deaths  total_vaccinations  population  \n",
            "173549         0.0                 0.0  1417173120  \n",
            "173550         0.0                 0.0  1417173120  \n",
            "173551         0.0                 0.0  1417173120  \n",
            "173552         0.0                 0.0  1417173120  \n",
            "173553         0.0                 0.0  1417173120  \n"
          ]
        }
      ]
    },
    {
      "cell_type": "code",
      "source": [
        "print(data['location'].unique())"
      ],
      "metadata": {
        "colab": {
          "base_uri": "https://localhost:8080/"
        },
        "id": "z8VsGUPCE6AM",
        "outputId": "c62e6799-d6c6-4b90-cc63-a9566bb09692"
      },
      "execution_count": 6,
      "outputs": [
        {
          "output_type": "stream",
          "name": "stdout",
          "text": [
            "['Afghanistan' 'Africa' 'Albania' 'Algeria' 'American Samoa' 'Andorra'\n",
            " 'Angola' 'Anguilla' 'Antigua and Barbuda' 'Argentina' 'Armenia' 'Aruba'\n",
            " 'Asia' 'Australia' 'Austria' 'Azerbaijan' 'Bahamas' 'Bahrain'\n",
            " 'Bangladesh' 'Barbados' 'Belarus' 'Belgium' 'Belize' 'Benin' 'Bermuda'\n",
            " 'Bhutan' 'Bolivia' 'Bonaire Sint Eustatius and Saba'\n",
            " 'Bosnia and Herzegovina' 'Botswana' 'Brazil' 'British Virgin Islands'\n",
            " 'Brunei' 'Bulgaria' 'Burkina Faso' 'Burundi' 'Cambodia' 'Cameroon'\n",
            " 'Canada' 'Cape Verde' 'Cayman Islands' 'Central African Republic' 'Chad'\n",
            " 'Chile' 'China' 'Colombia' 'Comoros' 'Congo' 'Cook Islands' 'Costa Rica'\n",
            " \"Cote d'Ivoire\" 'Croatia' 'Cuba' 'Curacao' 'Cyprus' 'Czechia'\n",
            " 'Democratic Republic of Congo' 'Denmark' 'Djibouti' 'Dominica'\n",
            " 'Dominican Republic' 'East Timor' 'Ecuador' 'Egypt' 'El Salvador'\n",
            " 'England' 'Equatorial Guinea' 'Eritrea' 'Estonia' 'Eswatini' 'Ethiopia'\n",
            " 'Europe' 'European Union (27)' 'Faroe Islands' 'Falkland Islands' 'Fiji'\n",
            " 'Finland' 'France' 'French Guiana' 'French Polynesia' 'Gabon' 'Gambia'\n",
            " 'Georgia' 'Germany' 'Ghana' 'Gibraltar' 'Greece' 'Greenland' 'Grenada'\n",
            " 'Guadeloupe' 'Guam' 'Guatemala' 'Guernsey' 'Guinea' 'Guinea-Bissau'\n",
            " 'Guyana' 'Haiti' 'High-income countries' 'Honduras' 'Hong Kong' 'Hungary'\n",
            " 'Iceland' 'India' 'Indonesia' 'Iran' 'Iraq' 'Ireland' 'Isle of Man'\n",
            " 'Israel' 'Italy' 'Jamaica' 'Japan' 'Jersey' 'Jordan' 'Kazakhstan' 'Kenya'\n",
            " 'Kiribati' 'Kosovo' 'Kuwait' 'Kyrgyzstan' 'Laos' 'Latvia' 'Lebanon'\n",
            " 'Lesotho' 'Liberia' 'Libya' 'Liechtenstein' 'Lithuania'\n",
            " 'Low-income countries' 'Lower-middle-income countries' 'Luxembourg'\n",
            " 'Macao' 'Madagascar' 'Malawi' 'Malaysia' 'Maldives' 'Mali' 'Malta'\n",
            " 'Marshall Islands' 'Martinique' 'Mauritania' 'Mauritius' 'Mayotte'\n",
            " 'Mexico' 'Micronesia (country)' 'Moldova' 'Monaco' 'Mongolia'\n",
            " 'Montenegro' 'Montserrat' 'Morocco' 'Mozambique' 'Myanmar' 'Namibia'\n",
            " 'Nauru' 'Nepal' 'Netherlands' 'New Caledonia' 'New Zealand' 'Nicaragua'\n",
            " 'Niger' 'Nigeria' 'Niue' 'North America' 'North Korea' 'North Macedonia'\n",
            " 'Northern Cyprus' 'Northern Ireland' 'Northern Mariana Islands' 'Norway'\n",
            " 'Oceania' 'Oman' 'Pakistan' 'Palau' 'Palestine' 'Panama'\n",
            " 'Papua New Guinea' 'Paraguay' 'Peru' 'Philippines' 'Pitcairn' 'Poland'\n",
            " 'Portugal' 'Puerto Rico' 'Qatar' 'Reunion' 'Romania' 'Russia' 'Rwanda'\n",
            " 'Saint Barthelemy' 'Saint Helena' 'Saint Kitts and Nevis' 'Saint Lucia'\n",
            " 'Saint Martin (French part)' 'Saint Pierre and Miquelon'\n",
            " 'Saint Vincent and the Grenadines' 'Samoa' 'San Marino'\n",
            " 'Sao Tome and Principe' 'Saudi Arabia' 'Scotland' 'Senegal' 'Serbia'\n",
            " 'Seychelles' 'Sierra Leone' 'Singapore' 'Sint Maarten (Dutch part)'\n",
            " 'Slovakia' 'Slovenia' 'Solomon Islands' 'Somalia' 'South Africa'\n",
            " 'South America' 'South Korea' 'South Sudan' 'Spain' 'Sri Lanka' 'Sudan'\n",
            " 'Suriname' 'Sweden' 'Switzerland' 'Syria' 'Taiwan' 'Tajikistan'\n",
            " 'Tanzania' 'Thailand' 'Togo' 'Tokelau' 'Tonga' 'Trinidad and Tobago'\n",
            " 'Tunisia' 'Turkey' 'Turkmenistan' 'Turks and Caicos Islands' 'Tuvalu'\n",
            " 'Uganda' 'Ukraine' 'United Arab Emirates' 'United Kingdom'\n",
            " 'United States' 'United States Virgin Islands'\n",
            " 'Upper-middle-income countries' 'Uruguay' 'Uzbekistan' 'Vanuatu'\n",
            " 'Vatican' 'Venezuela' 'Vietnam' 'Wales' 'Wallis and Futuna'\n",
            " 'Western Sahara' 'World' 'Yemen' 'Zambia' 'Zimbabwe']\n"
          ]
        }
      ]
    },
    {
      "cell_type": "code",
      "source": [
        "from google.colab import files\n",
        "\n",
        "files.download('/content/processed_covid_data.csv')  # Download cleaned data"
      ],
      "metadata": {
        "colab": {
          "base_uri": "https://localhost:8080/",
          "height": 17
        },
        "id": "xxTenZMbE-PM",
        "outputId": "543ab0a8-1914-4ad4-8392-cf9c749c885b"
      },
      "execution_count": 7,
      "outputs": [
        {
          "output_type": "display_data",
          "data": {
            "text/plain": [
              "<IPython.core.display.Javascript object>"
            ],
            "application/javascript": [
              "\n",
              "    async function download(id, filename, size) {\n",
              "      if (!google.colab.kernel.accessAllowed) {\n",
              "        return;\n",
              "      }\n",
              "      const div = document.createElement('div');\n",
              "      const label = document.createElement('label');\n",
              "      label.textContent = `Downloading \"${filename}\": `;\n",
              "      div.appendChild(label);\n",
              "      const progress = document.createElement('progress');\n",
              "      progress.max = size;\n",
              "      div.appendChild(progress);\n",
              "      document.body.appendChild(div);\n",
              "\n",
              "      const buffers = [];\n",
              "      let downloaded = 0;\n",
              "\n",
              "      const channel = await google.colab.kernel.comms.open(id);\n",
              "      // Send a message to notify the kernel that we're ready.\n",
              "      channel.send({})\n",
              "\n",
              "      for await (const message of channel.messages) {\n",
              "        // Send a message to notify the kernel that we're ready.\n",
              "        channel.send({})\n",
              "        if (message.buffers) {\n",
              "          for (const buffer of message.buffers) {\n",
              "            buffers.push(buffer);\n",
              "            downloaded += buffer.byteLength;\n",
              "            progress.value = downloaded;\n",
              "          }\n",
              "        }\n",
              "      }\n",
              "      const blob = new Blob(buffers, {type: 'application/binary'});\n",
              "      const a = document.createElement('a');\n",
              "      a.href = window.URL.createObjectURL(blob);\n",
              "      a.download = filename;\n",
              "      div.appendChild(a);\n",
              "      a.click();\n",
              "      div.remove();\n",
              "    }\n",
              "  "
            ]
          },
          "metadata": {}
        },
        {
          "output_type": "display_data",
          "data": {
            "text/plain": [
              "<IPython.core.display.Javascript object>"
            ],
            "application/javascript": [
              "download(\"download_656a65ed-8ecf-44a7-981e-d511dcb0686b\", \"processed_covid_data.csv\", 26626106)"
            ]
          },
          "metadata": {}
        }
      ]
    }
  ]
}